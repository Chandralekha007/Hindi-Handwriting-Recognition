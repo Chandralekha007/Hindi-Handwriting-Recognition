{
 "cells": [
  {
   "cell_type": "code",
   "execution_count": 1,
   "metadata": {},
   "outputs": [],
   "source": [
    "\n",
    "import numpy as np\n",
    "import pandas as pd\n",
    "from keras import layers\n",
    "from keras.layers import Input,Dense,Activation,ZeroPadding2D,BatchNormalization,Flatten,Conv2D\n",
    "from keras.layers import AveragePooling2D,MaxPooling2D,Dropout,GlobalMaxPooling2D,GlobalAveragePooling2D\n",
    "from keras.utils.np_utils import to_categorical\n",
    "from keras.models import Sequential \n",
    "from keras.callbacks import ModelCheckpoint\n",
    "import keras.backend as K\n",
    "from sklearn.preprocessing import LabelEncoder\n",
    "from sklearn.model_selection import train_test_split"
   ]
  },
  {
   "cell_type": "code",
   "execution_count": 2,
   "metadata": {},
   "outputs": [],
   "source": [
    "#importing the csv file\n",
    "data=pd.read_csv(\"data.csv\")\n",
    "dataset=np.array(data)\n",
    "np.random.shuffle(dataset)\n",
    "X = data.values[:,:-1]/255.0\n",
    "Y = data[\"character\"].values\n",
    "\n",
    "\n",
    "#splitting into train and test\n",
    "n_classes = 46\n",
    "x_train, x_test, y_train, y_test = train_test_split(X, Y, test_size=0.30, random_state=42)\n",
    "le = LabelEncoder()\n",
    "y_train = le.fit_transform(y_train)\n",
    "y_test = le.transform(y_test)\n",
    "y_train = to_categorical(y_train, n_classes)\n",
    "y_test = to_categorical(y_test, n_classes)\n"
   ]
  },
  {
   "cell_type": "code",
   "execution_count": 3,
   "metadata": {},
   "outputs": [
    {
     "name": "stdout",
     "output_type": "stream",
     "text": [
      "number of training samples = 64400\n",
      "number of test samples = 27600\n",
      "X_train shape:(64400, 1024)\n",
      "X_test shape:(27600, 1024)\n",
      "Y_train shape:(64400, 46)\n",
      "Y_test shape:(27600, 46)\n"
     ]
    }
   ],
   "source": [
    "print(\"number of training samples = \"+str(x_train.shape[0]))\n",
    "print(\"number of test samples = \"+str(x_test.shape[0]))\n",
    "print(\"X_train shape:\"+str(x_train.shape))\n",
    "print(\"X_test shape:\"+str(x_test.shape))\n",
    "print(\"Y_train shape:\"+str(y_train.shape))\n",
    "print(\"Y_test shape:\"+str(y_test.shape))\n"
   ]
  },
  {
   "cell_type": "code",
   "execution_count": 4,
   "metadata": {},
   "outputs": [
    {
     "name": "stdout",
     "output_type": "stream",
     "text": [
      "X_train shape:(64400, 32, 32, 1)\n",
      "Y_train shape:(64400, 46)\n"
     ]
    }
   ],
   "source": [
    "image_x=32\n",
    "image_y=32\n",
    "im_shape = (image_x, image_y, 1)\n",
    "train_y=y_train.reshape(y_train.shape[0],y_train.shape[1])\n",
    "test_y=y_test.reshape(y_test.shape[0],y_test.shape[1])\n",
    "x_train=x_train.reshape(x_train.shape[0],*im_shape)\n",
    "x_test=x_test.reshape(x_test.shape[0],*im_shape)\n",
    "print(\"X_train shape:\"+str(x_train.shape))\n",
    "print(\"Y_train shape:\"+str(train_y.shape))\n",
    "x_train= np.asarray(x_train).astype(np.float32)\n",
    "x_test=np.asarray(x_test).astype(np.float32)\n",
    "train_y=np.asarray(train_y).astype(np.float32)\n",
    "test_y=np.asarray(test_y).astype(np.float32)\n",
    "\n"
   ]
  },
  {
   "cell_type": "code",
   "execution_count": 5,
   "metadata": {},
   "outputs": [],
   "source": [
    "def keras_model(image_x,image_y):\n",
    "    model=Sequential()\n",
    "    model.add(Conv2D(filters=32,kernel_size=(3,3),input_shape=im_shape,activation='relu'))\n",
    "    model.add(MaxPooling2D(pool_size=(2,2),strides=(2,2),padding='same'))\n",
    "    model.add(Conv2D(64,(3,3),activation=\"relu\"))\n",
    "    model.add(MaxPooling2D(pool_size=(5,5),strides=(5,5),padding='same'))\n",
    "    model.add(Flatten())\n",
    "    model.add(Dense(n_classes,activation='softmax'))\n",
    "    model.compile(loss='categorical_crossentropy',optimizer='adam',metrics=['accuracy'])\n",
    "    filepath=\"devanagri.h5\"\n",
    "    checkpoint1=ModelCheckpoint(filepath,monitor='val_acc',verbose=1,save_best_only=True,mode='max')\n",
    "    callbacks_list=[checkpoint1]\n",
    "    \n",
    "    return model,callbacks_list"
   ]
  },
  {
   "cell_type": "code",
   "execution_count": 6,
   "metadata": {},
   "outputs": [
    {
     "name": "stdout",
     "output_type": "stream",
     "text": [
      "Epoch 1/8\n",
      "1007/1007 [==============================] - ETA: 0s - loss: 0.8170 - accuracy: 0.7752WARNING:tensorflow:Can save best model only with val_acc available, skipping.\n",
      "1007/1007 [==============================] - 178s 177ms/step - loss: 0.8170 - accuracy: 0.7752 - val_loss: 0.3265 - val_accuracy: 0.9028\n",
      "Epoch 2/8\n",
      "1007/1007 [==============================] - ETA: 0s - loss: 0.2472 - accuracy: 0.9250WARNING:tensorflow:Can save best model only with val_acc available, skipping.\n",
      "1007/1007 [==============================] - 205s 203ms/step - loss: 0.2472 - accuracy: 0.9250 - val_loss: 0.2098 - val_accuracy: 0.9364\n",
      "Epoch 3/8\n",
      "1006/1007 [============================>.] - ETA: 0s - loss: 0.1635 - accuracy: 0.9505WARNING:tensorflow:Can save best model only with val_acc available, skipping.\n",
      "1007/1007 [==============================] - 210s 208ms/step - loss: 0.1635 - accuracy: 0.9505 - val_loss: 0.1707 - val_accuracy: 0.9491\n",
      "Epoch 4/8\n",
      "1006/1007 [============================>.] - ETA: 0s - loss: 0.1220 - accuracy: 0.9635WARNING:tensorflow:Can save best model only with val_acc available, skipping.\n",
      "1007/1007 [==============================] - 176s 175ms/step - loss: 0.1220 - accuracy: 0.9635 - val_loss: 0.1584 - val_accuracy: 0.9512\n",
      "Epoch 5/8\n",
      "1006/1007 [============================>.] - ETA: 0s - loss: 0.0960 - accuracy: 0.9702WARNING:tensorflow:Can save best model only with val_acc available, skipping.\n",
      "1007/1007 [==============================] - 176s 174ms/step - loss: 0.0960 - accuracy: 0.9702 - val_loss: 0.1354 - val_accuracy: 0.9586\n",
      "Epoch 6/8\n",
      "1007/1007 [==============================] - ETA: 0s - loss: 0.0787 - accuracy: 0.9760WARNING:tensorflow:Can save best model only with val_acc available, skipping.\n",
      "1007/1007 [==============================] - 174s 173ms/step - loss: 0.0787 - accuracy: 0.9760 - val_loss: 0.1378 - val_accuracy: 0.9584\n",
      "Epoch 7/8\n",
      "1007/1007 [==============================] - ETA: 0s - loss: 0.0625 - accuracy: 0.9805WARNING:tensorflow:Can save best model only with val_acc available, skipping.\n",
      "1007/1007 [==============================] - 172s 170ms/step - loss: 0.0625 - accuracy: 0.9805 - val_loss: 0.1175 - val_accuracy: 0.9661\n",
      "Epoch 8/8\n",
      "1007/1007 [==============================] - ETA: 0s - loss: 0.0523 - accuracy: 0.9837WARNING:tensorflow:Can save best model only with val_acc available, skipping.\n",
      "1007/1007 [==============================] - 172s 171ms/step - loss: 0.0523 - accuracy: 0.9837 - val_loss: 0.1249 - val_accuracy: 0.9642\n",
      "CNN error:3.583336%\n",
      "Model: \"sequential\"\n",
      "_________________________________________________________________\n",
      "Layer (type)                 Output Shape              Param #   \n",
      "=================================================================\n",
      "conv2d (Conv2D)              (None, 30, 30, 32)        320       \n",
      "_________________________________________________________________\n",
      "max_pooling2d (MaxPooling2D) (None, 15, 15, 32)        0         \n",
      "_________________________________________________________________\n",
      "conv2d_1 (Conv2D)            (None, 13, 13, 64)        18496     \n",
      "_________________________________________________________________\n",
      "max_pooling2d_1 (MaxPooling2 (None, 3, 3, 64)          0         \n",
      "_________________________________________________________________\n",
      "flatten (Flatten)            (None, 576)               0         \n",
      "_________________________________________________________________\n",
      "dense (Dense)                (None, 46)                26542     \n",
      "=================================================================\n",
      "Total params: 45,358\n",
      "Trainable params: 45,358\n",
      "Non-trainable params: 0\n",
      "_________________________________________________________________\n"
     ]
    }
   ],
   "source": [
    "#fitting the model\n",
    "model,callbacks_list=keras_model(image_x,image_y)\n",
    "model.fit(x_train,train_y,validation_data=(x_test,test_y),epochs=8,batch_size=64,callbacks=callbacks_list)\n",
    "scores=model.evaluate(x_test,test_y,verbose=0)\n",
    "print(\"CNN error:%2f%%\"%(100-scores[1]*100))\n",
    "model.summary()\n",
    "model.save('devanagri.h5')\n"
   ]
  },
  {
   "cell_type": "code",
   "execution_count": null,
   "metadata": {},
   "outputs": [],
   "source": []
  }
 ],
 "metadata": {
  "kernelspec": {
   "display_name": "Python 3",
   "language": "python",
   "name": "python3"
  },
  "language_info": {
   "codemirror_mode": {
    "name": "ipython",
    "version": 3
   },
   "file_extension": ".py",
   "mimetype": "text/x-python",
   "name": "python",
   "nbconvert_exporter": "python",
   "pygments_lexer": "ipython3",
   "version": "3.7.6"
  }
 },
 "nbformat": 4,
 "nbformat_minor": 4
}
