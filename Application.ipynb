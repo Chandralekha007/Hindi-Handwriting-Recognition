{
 "cells": [
  {
   "cell_type": "code",
   "execution_count": null,
   "metadata": {},
   "outputs": [],
   "source": [
    "#Application\n",
    "import cv2\n",
    "import numpy as np\n",
    "from keras.models import load_model\n",
    "from collections import deque\n",
    "\n",
    "\n"
   ]
  },
  {
   "cell_type": "code",
   "execution_count": null,
   "metadata": {},
   "outputs": [],
   "source": [
    "model1=load_model(\"devanagri.h5\")\n",
    "print(model1)"
   ]
  },
  {
   "cell_type": "code",
   "execution_count": null,
   "metadata": {},
   "outputs": [],
   "source": [
    "letter_count={0: 'CHECK',1: '01_ka',2: '02_kha',3:\"03_ga\",4:'04_gha',5:\"05_kna\",6:\"06_cha\",7:\"07_chha\",8:\"_ja\",9:\"09_jha\",10:\"_yna\",\n",
    "             11:\"11_taamatar\",12:\"12_thaa\",13:\"13_daa\",14:\"14_dhaa\",15:\"15_adna\",16:\"16_tabala\",17:\"7_tha\",18:\"18_da\",19:\"19_dha\",20:\"20_na\",\n",
    "             21:\"21_pa\",22:\"22_pha\",23:\"23_ba\",24:\"24_bha\",25:\"25_ma\",26:\"26_yaw\",27:\"27_ra\",28:\"28_la\",29:\"29_waw\",30:\"30_motosaw\",\n",
    "              31:\"31_petchiryakha\",32:\"32_patalosaw\",33:\"33_ha\",34:\"34_chhya\",35:\"35_tra\",36:\"36_gya\",37:\"CHECK\"}\n"
   ]
  },
  {
   "cell_type": "code",
   "execution_count": null,
   "metadata": {},
   "outputs": [],
   "source": [
    "\n",
    "def keras_process_image(img):\n",
    "    image_x=32\n",
    "    image_y=32\n",
    "    img=cv2.resize(img,(image_x,image_y),cv2.INTER_AREA)\n",
    "    img=np.array(img,dtype=np.float32)\n",
    "    img=np.reshape(img,(-1,image_x,image_y,1))\n",
    "    return img\n",
    "\n",
    "\n",
    "def keras_predict(model,image):\n",
    "    \n",
    "    processed=keras_process_image(image)\n",
    "    print(\"Processed:\"+str(processed.shape))\n",
    "    pred_probab=model.predict(processed)[0]\n",
    "    pred_class=list(pred_probab).index(max(pred_probab))\n",
    "    return max(pred_probab),pred_class\n",
    "#pred_class=keras_predict(model1,image)\n",
    "\n"
   ]
  },
  {
   "cell_type": "code",
   "execution_count": null,
   "metadata": {},
   "outputs": [],
   "source": [
    "capture=cv2.VideoCapture(0)\n",
    "Lower_blue=np.array([110,50,50])\n",
    "Upper_blue=np.array([130,255,255])\n",
    "pres_class=0\n",
    "points=deque(maxlen=512)\n",
    "blackboard=np.zeros((480,640,3),dtype=np.uint8)\n",
    "digit=np.zeros((200,200,3),dtype=np.uint8)\n",
    "while(capture.isOpened()):\n",
    "    ret,img=capture.read()\n",
    "    img=cv2.flip(img,1)\n",
    "    imgHSV=cv2.cvtColor(img,cv2.COLOR_BGR2HSV)\n",
    "    mask=cv2.inRange(imgHSV,Lower_blue,Upper_blue)\n",
    "    blur=cv2.medianBlur(mask,15)\n",
    "    blur=cv2.GaussianBlur(blur,(5,5),0)\n",
    "    thresh=cv2.threshold(blur,0,255,cv2.THRESH_BINARY+cv2.THRESH_OTSU)[1]\n",
    "    cnts=cv2.findContours(thresh.copy(),cv2.RETR_TREE,cv2.CHAIN_APPROX_NONE)[1]\n",
    "    center=None\n",
    "    if len(cnts)>=1:\n",
    "        contour=max(cnts,key=cv2.contourArea)\n",
    "        if cv2.contourArea(contour)>250:\n",
    "            ((x,y),radius)=cv2.minEnclosingCircle(contour)\n",
    "            cv2.circle(img,(int(x),int(y)),int(radius),(0,255,255),2)\n",
    "            cv2.circle(img,center,5,(0,0,255),-1)\n",
    "            M=cv2.moments(contour)\n",
    "            center=(int(M['m10']/M['m00']),int(M['m01']/M['m00']))\n",
    "            points.appendleft(center)\n",
    "            for i in range(1,len(points)):\n",
    "                if points[i-1] is None or points[i] is None:\n",
    "                    continue\n",
    "                cv2.line(blackboard,points[i-1],points[i],(255,255,255),10)\n",
    "                cv2.line(img,points[i-1],points[i],(0,0,255),5)\n",
    "    elif len(cnts)==0:\n",
    "        if len(points)!=[]:\n",
    "            blackboard_gray=cv2.cvtColor(blackboard,cv2.COLOR_BGR2GRAY)\n",
    "            blur1=cv2.medianBlur(blackboard_gray,15)\n",
    "            blur1=cv2.GaussianBlur(blur1,(5,5),0)\n",
    "            thresh1=cv2.threshold(blur1,0,255,cv2.THRESH_BINARY+cv2.THRESH_OTSU)[1]\n",
    "            blackboard_cnts=cv2.findContours(thresh1.copy(),cv2.RETR_TREE,cv2.CHAIN_APPROX_NONE)[1]\n",
    "            if len(blackboard_cnts)>=1:\n",
    "                cnt=max(blackboard_cnts,key=cv2.contourArea)\n",
    "                print(cv2.contourArea(cnt))\n",
    "                if cv2.contourArea(cnt)>2000:\n",
    "                    x,y,w,h=cv2.boundingRect(cnt)\n",
    "                    digit=blackboard_gray[y:y+h,x:x+w]\n",
    "                    pred_probab,pred_class=keras_predict(model1,digit)\n",
    "                    print(pred_class,pred_probab)\n",
    "        points=deque(maxlen=512)\n",
    "        blackboard=np.zeros((480,640,3),dtype=np.uint8)\n",
    "    #cv2.putText(img,\"conv Network:\"+str(letter_count[pred_class]),(10,470),cv2.FONT_HERSHEY_SIMPLEX,0.7,(0,0,255),2)\n",
    "    cv2.imshow(\"FRAME\",img)\n",
    "    cv2.imshow(\"Contours\",thresh)\n",
    "    k=cv2.waitKey(10)\n",
    "    if k==27:\n",
    "        break"
   ]
  },
  {
   "cell_type": "code",
   "execution_count": null,
   "metadata": {},
   "outputs": [],
   "source": []
  },
  {
   "cell_type": "code",
   "execution_count": null,
   "metadata": {},
   "outputs": [],
   "source": []
  }
 ],
 "metadata": {
  "kernelspec": {
   "display_name": "Python 3",
   "language": "python",
   "name": "python3"
  },
  "language_info": {
   "codemirror_mode": {
    "name": "ipython",
    "version": 3
   },
   "file_extension": ".py",
   "mimetype": "text/x-python",
   "name": "python",
   "nbconvert_exporter": "python",
   "pygments_lexer": "ipython3",
   "version": "3.7.6"
  }
 },
 "nbformat": 4,
 "nbformat_minor": 4
}
